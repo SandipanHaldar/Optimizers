{
 "cells": [
  {
   "cell_type": "code",
   "execution_count": 1,
   "metadata": {},
   "outputs": [
    {
     "name": "stderr",
     "output_type": "stream",
     "text": [
      "Using TensorFlow backend.\n"
     ]
    }
   ],
   "source": [
    "%matplotlib inline\n",
    "import numpy as np\n",
    "import matplotlib\n",
    "from matplotlib import pyplot as plt\n",
    "from keras.models import Sequential\n",
    "from keras.optimizers import Adam\n",
    "from keras.callbacks import ModelCheckpoint\n",
    "from keras.models import load_model\n",
    "from keras.layers import Lambda, Conv2D, MaxPooling2D, Dropout, Dense, Flatten, Activation\n",
    "from keras import optimizers"
   ]
  },
  {
   "cell_type": "code",
   "execution_count": 2,
   "metadata": {},
   "outputs": [],
   "source": [
    "import keras_radam\n"
   ]
  },
  {
   "cell_type": "code",
   "execution_count": 2,
   "metadata": {},
   "outputs": [
    {
     "name": "stdout",
     "output_type": "stream",
     "text": [
      "Requirement already satisfied: keras-rectified-adam in /home/user/anaconda3/lib/python3.7/site-packages (0.17.0)\n",
      "Requirement already satisfied: Keras in /home/user/anaconda3/lib/python3.7/site-packages (from keras-rectified-adam) (2.3.1)\n",
      "Requirement already satisfied: numpy in /home/user/anaconda3/lib/python3.7/site-packages (from keras-rectified-adam) (1.16.2)\n",
      "Requirement already satisfied: pyyaml in /home/user/anaconda3/lib/python3.7/site-packages (from Keras->keras-rectified-adam) (5.1)\n",
      "Requirement already satisfied: keras-preprocessing>=1.0.5 in /home/user/anaconda3/lib/python3.7/site-packages (from Keras->keras-rectified-adam) (1.1.0)\n",
      "Requirement already satisfied: keras-applications>=1.0.6 in /home/user/anaconda3/lib/python3.7/site-packages (from Keras->keras-rectified-adam) (1.0.8)\n",
      "Requirement already satisfied: six>=1.9.0 in /home/user/anaconda3/lib/python3.7/site-packages (from Keras->keras-rectified-adam) (1.12.0)\n",
      "Requirement already satisfied: scipy>=0.14 in /home/user/anaconda3/lib/python3.7/site-packages (from Keras->keras-rectified-adam) (1.2.1)\n",
      "Requirement already satisfied: h5py in /home/user/anaconda3/lib/python3.7/site-packages (from Keras->keras-rectified-adam) (2.9.0)\n",
      "Note: you may need to restart the kernel to use updated packages.\n"
     ]
    }
   ],
   "source": [
    " pip install keras-rectified-adam"
   ]
  },
  {
   "cell_type": "code",
   "execution_count": 3,
   "metadata": {},
   "outputs": [],
   "source": [
    "import keras_radam"
   ]
  },
  {
   "cell_type": "code",
   "execution_count": 4,
   "metadata": {},
   "outputs": [],
   "source": [
    "from helper import get_class_names, get_train_data, get_test_data, plot_images, plot_model"
   ]
  },
  {
   "cell_type": "code",
   "execution_count": 5,
   "metadata": {},
   "outputs": [],
   "source": [
    "matplotlib.style.use('ggplot')"
   ]
  },
  {
   "cell_type": "code",
   "execution_count": 6,
   "metadata": {},
   "outputs": [
    {
     "name": "stdout",
     "output_type": "stream",
     "text": [
      "Decoding file: data/batches.meta\n",
      "['airplane', 'automobile', 'bird', 'cat', 'deer', 'dog', 'frog', 'horse', 'ship', 'truck']\n"
     ]
    }
   ],
   "source": [
    "class_names = get_class_names()\n",
    "print(class_names)"
   ]
  },
  {
   "cell_type": "code",
   "execution_count": 7,
   "metadata": {},
   "outputs": [
    {
     "name": "stdout",
     "output_type": "stream",
     "text": [
      "10\n"
     ]
    }
   ],
   "source": [
    "num_classes = len(class_names)\n",
    "print(num_classes)"
   ]
  },
  {
   "cell_type": "code",
   "execution_count": 8,
   "metadata": {},
   "outputs": [],
   "source": [
    "IMAGE_SIZE = 32\n",
    "CHANNELS = 3"
   ]
  },
  {
   "cell_type": "code",
   "execution_count": 9,
   "metadata": {},
   "outputs": [
    {
     "name": "stdout",
     "output_type": "stream",
     "text": [
      "Decoding file: data/data_batch_1\n",
      "Decoding file: data/data_batch_2\n",
      "Decoding file: data/data_batch_3\n",
      "Decoding file: data/data_batch_4\n",
      "Decoding file: data/data_batch_5\n"
     ]
    }
   ],
   "source": [
    "images_train, labels_train, class_train = get_train_data()"
   ]
  },
  {
   "cell_type": "code",
   "execution_count": 10,
   "metadata": {},
   "outputs": [
    {
     "name": "stdout",
     "output_type": "stream",
     "text": [
      "Decoding file: data/test_batch\n"
     ]
    }
   ],
   "source": [
    "images_test, labels_test, class_test = get_test_data()"
   ]
  },
  {
   "cell_type": "code",
   "execution_count": 11,
   "metadata": {},
   "outputs": [
    {
     "name": "stdout",
     "output_type": "stream",
     "text": [
      "Training set size:\t 50000\n",
      "Testing set size:\t 10000\n"
     ]
    }
   ],
   "source": [
    "print(\"Training set size:\\t\",len(images_train))\n",
    "print(\"Testing set size:\\t\",len(images_test))"
   ]
  },
  {
   "cell_type": "code",
   "execution_count": 12,
   "metadata": {},
   "outputs": [],
   "source": [
    "def cnn_model():\n",
    "    \n",
    "    model = Sequential()\n",
    "    \n",
    "    model.add(Conv2D(32, (3, 3), activation='relu', padding='same', input_shape=(IMAGE_SIZE,IMAGE_SIZE,CHANNELS)))    \n",
    "    model.add(Conv2D(32, (3, 3), activation='relu'))    \n",
    "    model.add(MaxPooling2D(pool_size=(2, 2)))\n",
    "    model.add(Dropout(0.25))\n",
    "\n",
    "    \n",
    "    model.add(Conv2D(64, (3, 3), activation='relu', padding='same'))    \n",
    "    model.add(Conv2D(64, (3, 3), activation='relu'))\n",
    "    model.add(MaxPooling2D(pool_size=(2, 2)))\n",
    "    model.add(Dropout(0.25))\n",
    "\n",
    "    model.add(Flatten())\n",
    "    \n",
    "    model.add(Dense(512, activation='relu'))\n",
    "    model.add(Dropout(0.5))\n",
    "    \n",
    "    model.add(Dense(num_classes, activation='softmax'))\n",
    "    \n",
    "    model.summary()\n",
    "    \n",
    "    return model"
   ]
  },
  {
   "cell_type": "code",
   "execution_count": 13,
   "metadata": {},
   "outputs": [
    {
     "name": "stdout",
     "output_type": "stream",
     "text": [
      "WARNING:tensorflow:From /home/user/anaconda3/lib/python3.7/site-packages/tensorflow/python/ops/resource_variable_ops.py:435: colocate_with (from tensorflow.python.framework.ops) is deprecated and will be removed in a future version.\n",
      "Instructions for updating:\n",
      "Colocations handled automatically by placer.\n",
      "Model: \"sequential_1\"\n",
      "_________________________________________________________________\n",
      "Layer (type)                 Output Shape              Param #   \n",
      "=================================================================\n",
      "conv2d_1 (Conv2D)            (None, 32, 32, 32)        896       \n",
      "_________________________________________________________________\n",
      "conv2d_2 (Conv2D)            (None, 30, 30, 32)        9248      \n",
      "_________________________________________________________________\n",
      "max_pooling2d_1 (MaxPooling2 (None, 15, 15, 32)        0         \n",
      "_________________________________________________________________\n",
      "dropout_1 (Dropout)          (None, 15, 15, 32)        0         \n",
      "_________________________________________________________________\n",
      "conv2d_3 (Conv2D)            (None, 15, 15, 64)        18496     \n",
      "_________________________________________________________________\n",
      "conv2d_4 (Conv2D)            (None, 13, 13, 64)        36928     \n",
      "_________________________________________________________________\n",
      "max_pooling2d_2 (MaxPooling2 (None, 6, 6, 64)          0         \n",
      "_________________________________________________________________\n",
      "dropout_2 (Dropout)          (None, 6, 6, 64)          0         \n",
      "_________________________________________________________________\n",
      "flatten_1 (Flatten)          (None, 2304)              0         \n",
      "_________________________________________________________________\n",
      "dense_1 (Dense)              (None, 512)               1180160   \n",
      "_________________________________________________________________\n",
      "dropout_3 (Dropout)          (None, 512)               0         \n",
      "_________________________________________________________________\n",
      "dense_2 (Dense)              (None, 10)                5130      \n",
      "=================================================================\n",
      "Total params: 1,250,858\n",
      "Trainable params: 1,250,858\n",
      "Non-trainable params: 0\n",
      "_________________________________________________________________\n"
     ]
    }
   ],
   "source": [
    "modelradam = cnn_model()"
   ]
  },
  {
   "cell_type": "code",
   "execution_count": 14,
   "metadata": {},
   "outputs": [],
   "source": [
    "checkpoint = ModelCheckpoint('best_model_simple.h5',  \n",
    "                             monitor='val_loss', \n",
    "                             verbose=0, \n",
    "                             save_best_only= True, \n",
    "                                mode='auto') "
   ]
  },
  {
   "cell_type": "code",
   "execution_count": 15,
   "metadata": {},
   "outputs": [
    {
     "ename": "NameError",
     "evalue": "name 'RAdam' is not defined",
     "output_type": "error",
     "traceback": [
      "\u001b[0;31m---------------------------------------------------------------------------\u001b[0m",
      "\u001b[0;31mNameError\u001b[0m                                 Traceback (most recent call last)",
      "\u001b[0;32m<ipython-input-15-84a4b11459bc>\u001b[0m in \u001b[0;36m<module>\u001b[0;34m\u001b[0m\n\u001b[0;32m----> 1\u001b[0;31m \u001b[0mopt\u001b[0m \u001b[0;34m=\u001b[0m \u001b[0mRAdam\u001b[0m\u001b[0;34m(\u001b[0m\u001b[0mtotal_steps\u001b[0m\u001b[0;34m=\u001b[0m\u001b[0;36m5000\u001b[0m\u001b[0;34m,\u001b[0m \u001b[0mwarmup_proportion\u001b[0m\u001b[0;34m=\u001b[0m\u001b[0;36m0.1\u001b[0m\u001b[0;34m,\u001b[0m \u001b[0mmin_lr\u001b[0m\u001b[0;34m=\u001b[0m\u001b[0;36m1e-5\u001b[0m\u001b[0;34m)\u001b[0m\u001b[0;34m\u001b[0m\u001b[0;34m\u001b[0m\u001b[0m\n\u001b[0m",
      "\u001b[0;31mNameError\u001b[0m: name 'RAdam' is not defined"
     ]
    }
   ],
   "source": [
    "opt = RAdam(total_steps=5000, warmup_proportion=0.1, min_lr=1e-5)"
   ]
  },
  {
   "cell_type": "code",
   "execution_count": 16,
   "metadata": {},
   "outputs": [],
   "source": [
    "from keras_radam import RAdam"
   ]
  },
  {
   "cell_type": "code",
   "execution_count": 17,
   "metadata": {},
   "outputs": [],
   "source": [
    "opt = RAdam(total_steps=5000, warmup_proportion=0.1, min_lr=1e-5)"
   ]
  },
  {
   "cell_type": "code",
   "execution_count": 18,
   "metadata": {},
   "outputs": [],
   "source": [
    "modelradam.compile(loss='categorical_crossentropy', \n",
    "              optimizer=opt, # RAdam optimizer with 1.0e-4 learning rate\n",
    "              metrics = ['accuracy']) "
   ]
  },
  {
   "cell_type": "code",
   "execution_count": 19,
   "metadata": {},
   "outputs": [
    {
     "name": "stdout",
     "output_type": "stream",
     "text": [
      "WARNING:tensorflow:From /home/user/anaconda3/lib/python3.7/site-packages/tensorflow/python/ops/math_ops.py:3066: to_int32 (from tensorflow.python.ops.math_ops) is deprecated and will be removed in a future version.\n",
      "Instructions for updating:\n",
      "Use tf.cast instead.\n",
      "Train on 50000 samples, validate on 10000 samples\n",
      "Epoch 1/50\n",
      "50000/50000 [==============================] - 215s 4ms/step - loss: 2.0529 - accuracy: 0.2296 - val_loss: 1.6074 - val_accuracy: 0.4250\n",
      "Epoch 2/50\n",
      "50000/50000 [==============================] - 193s 4ms/step - loss: 1.4676 - accuracy: 0.4666 - val_loss: 1.2263 - val_accuracy: 0.5603\n",
      "Epoch 3/50\n",
      "50000/50000 [==============================] - 191s 4ms/step - loss: 1.2221 - accuracy: 0.5674 - val_loss: 1.0738 - val_accuracy: 0.6218\n",
      "Epoch 4/50\n",
      "50000/50000 [==============================] - 195s 4ms/step - loss: 1.0627 - accuracy: 0.6242 - val_loss: 0.9457 - val_accuracy: 0.6699\n",
      "Epoch 5/50\n",
      "50000/50000 [==============================] - 206s 4ms/step - loss: 0.9454 - accuracy: 0.6662 - val_loss: 0.8893 - val_accuracy: 0.6902\n",
      "Epoch 6/50\n",
      "50000/50000 [==============================] - 203s 4ms/step - loss: 0.8578 - accuracy: 0.7014 - val_loss: 0.8092 - val_accuracy: 0.7172\n",
      "Epoch 7/50\n",
      "50000/50000 [==============================] - 206s 4ms/step - loss: 0.7899 - accuracy: 0.7220 - val_loss: 0.7401 - val_accuracy: 0.7449\n",
      "Epoch 8/50\n",
      "50000/50000 [==============================] - 186s 4ms/step - loss: 0.7285 - accuracy: 0.7466 - val_loss: 0.7102 - val_accuracy: 0.7526\n",
      "Epoch 9/50\n",
      "50000/50000 [==============================] - 191s 4ms/step - loss: 0.6815 - accuracy: 0.7610 - val_loss: 0.6849 - val_accuracy: 0.7628\n",
      "Epoch 10/50\n",
      "50000/50000 [==============================] - 189s 4ms/step - loss: 0.6385 - accuracy: 0.7769 - val_loss: 0.6694 - val_accuracy: 0.7695\n",
      "Epoch 11/50\n",
      "50000/50000 [==============================] - 176s 4ms/step - loss: 0.6010 - accuracy: 0.7893 - val_loss: 0.6495 - val_accuracy: 0.7760\n",
      "Epoch 12/50\n",
      "50000/50000 [==============================] - 173s 3ms/step - loss: 0.5726 - accuracy: 0.8000 - val_loss: 0.6422 - val_accuracy: 0.7810\n",
      "Epoch 13/50\n",
      "50000/50000 [==============================] - 179s 4ms/step - loss: 0.5483 - accuracy: 0.8084 - val_loss: 0.6344 - val_accuracy: 0.7825\n",
      "Epoch 14/50\n",
      "50000/50000 [==============================] - 173s 3ms/step - loss: 0.5399 - accuracy: 0.8108 - val_loss: 0.6342 - val_accuracy: 0.7819\n",
      "Epoch 15/50\n",
      "50000/50000 [==============================] - 185s 4ms/step - loss: 0.5384 - accuracy: 0.8096 - val_loss: 0.6348 - val_accuracy: 0.7828\n",
      "Epoch 16/50\n",
      "50000/50000 [==============================] - 186s 4ms/step - loss: 0.5362 - accuracy: 0.8141 - val_loss: 0.6349 - val_accuracy: 0.7828\n",
      "Epoch 17/50\n",
      "50000/50000 [==============================] - 173s 3ms/step - loss: 0.5346 - accuracy: 0.8114 - val_loss: 0.6336 - val_accuracy: 0.7827\n",
      "Epoch 18/50\n",
      "50000/50000 [==============================] - 181s 4ms/step - loss: 0.5347 - accuracy: 0.8118 - val_loss: 0.6330 - val_accuracy: 0.7828\n",
      "Epoch 19/50\n",
      "50000/50000 [==============================] - 175s 4ms/step - loss: 0.5341 - accuracy: 0.8138 - val_loss: 0.6325 - val_accuracy: 0.7830\n",
      "Epoch 20/50\n",
      "50000/50000 [==============================] - 174s 3ms/step - loss: 0.5301 - accuracy: 0.8143 - val_loss: 0.6336 - val_accuracy: 0.7832\n",
      "Epoch 21/50\n",
      "50000/50000 [==============================] - 172s 3ms/step - loss: 0.5299 - accuracy: 0.8127 - val_loss: 0.6316 - val_accuracy: 0.7841\n",
      "Epoch 22/50\n",
      "50000/50000 [==============================] - 170s 3ms/step - loss: 0.5303 - accuracy: 0.8140 - val_loss: 0.6310 - val_accuracy: 0.7834\n",
      "Epoch 23/50\n",
      "50000/50000 [==============================] - 170s 3ms/step - loss: 0.5265 - accuracy: 0.8152 - val_loss: 0.6316 - val_accuracy: 0.7838\n",
      "Epoch 24/50\n",
      "50000/50000 [==============================] - 176s 4ms/step - loss: 0.5281 - accuracy: 0.8141 - val_loss: 0.6308 - val_accuracy: 0.7829\n",
      "Epoch 25/50\n",
      "50000/50000 [==============================] - 194s 4ms/step - loss: 0.5291 - accuracy: 0.8148 - val_loss: 0.6299 - val_accuracy: 0.7837\n",
      "Epoch 26/50\n",
      "50000/50000 [==============================] - 196s 4ms/step - loss: 0.5230 - accuracy: 0.8166 - val_loss: 0.6311 - val_accuracy: 0.7836\n",
      "Epoch 27/50\n",
      "50000/50000 [==============================] - 174s 3ms/step - loss: 0.5232 - accuracy: 0.8164 - val_loss: 0.6297 - val_accuracy: 0.7856\n",
      "Epoch 28/50\n",
      "50000/50000 [==============================] - 177s 4ms/step - loss: 0.5230 - accuracy: 0.8163 - val_loss: 0.6310 - val_accuracy: 0.7832\n",
      "Epoch 29/50\n",
      "50000/50000 [==============================] - 172s 3ms/step - loss: 0.5184 - accuracy: 0.8175 - val_loss: 0.6287 - val_accuracy: 0.7849\n",
      "Epoch 30/50\n",
      "50000/50000 [==============================] - 170s 3ms/step - loss: 0.5242 - accuracy: 0.8151 - val_loss: 0.6299 - val_accuracy: 0.7843\n",
      "Epoch 31/50\n",
      "50000/50000 [==============================] - 180s 4ms/step - loss: 0.5180 - accuracy: 0.8184 - val_loss: 0.6274 - val_accuracy: 0.7865\n",
      "Epoch 32/50\n",
      "50000/50000 [==============================] - 174s 3ms/step - loss: 0.5178 - accuracy: 0.8188 - val_loss: 0.6274 - val_accuracy: 0.7827\n",
      "Epoch 33/50\n",
      "50000/50000 [==============================] - 184s 4ms/step - loss: 0.5201 - accuracy: 0.8180 - val_loss: 0.6295 - val_accuracy: 0.7837\n",
      "Epoch 34/50\n",
      "50000/50000 [==============================] - 214s 4ms/step - loss: 0.5139 - accuracy: 0.8204 - val_loss: 0.6285 - val_accuracy: 0.7849\n",
      "Epoch 35/50\n",
      "50000/50000 [==============================] - 209s 4ms/step - loss: 0.5140 - accuracy: 0.8211 - val_loss: 0.6280 - val_accuracy: 0.7868\n",
      "Epoch 36/50\n",
      "50000/50000 [==============================] - 202s 4ms/step - loss: 0.5160 - accuracy: 0.8196 - val_loss: 0.6278 - val_accuracy: 0.7844\n",
      "Epoch 37/50\n",
      "50000/50000 [==============================] - 199s 4ms/step - loss: 0.5149 - accuracy: 0.8191 - val_loss: 0.6250 - val_accuracy: 0.7854\n",
      "Epoch 38/50\n",
      "50000/50000 [==============================] - 203s 4ms/step - loss: 0.5097 - accuracy: 0.8203 - val_loss: 0.6266 - val_accuracy: 0.7867\n",
      "Epoch 39/50\n",
      "50000/50000 [==============================] - 208s 4ms/step - loss: 0.5119 - accuracy: 0.8213 - val_loss: 0.6267 - val_accuracy: 0.7849\n",
      "Epoch 40/50\n",
      "50000/50000 [==============================] - 200s 4ms/step - loss: 0.5099 - accuracy: 0.8220 - val_loss: 0.6253 - val_accuracy: 0.7858\n",
      "Epoch 41/50\n",
      "50000/50000 [==============================] - 199s 4ms/step - loss: 0.5065 - accuracy: 0.8226 - val_loss: 0.6253 - val_accuracy: 0.7863\n",
      "Epoch 42/50\n",
      "50000/50000 [==============================] - 202s 4ms/step - loss: 0.5099 - accuracy: 0.8208 - val_loss: 0.6237 - val_accuracy: 0.7875\n",
      "Epoch 43/50\n",
      "50000/50000 [==============================] - 206s 4ms/step - loss: 0.5108 - accuracy: 0.8193 - val_loss: 0.6236 - val_accuracy: 0.7866\n",
      "Epoch 44/50\n",
      "50000/50000 [==============================] - 201s 4ms/step - loss: 0.5051 - accuracy: 0.8216 - val_loss: 0.6249 - val_accuracy: 0.7854\n",
      "Epoch 45/50\n",
      "50000/50000 [==============================] - 174s 3ms/step - loss: 0.5060 - accuracy: 0.8242 - val_loss: 0.6252 - val_accuracy: 0.7873\n",
      "Epoch 46/50\n",
      "50000/50000 [==============================] - 173s 3ms/step - loss: 0.5051 - accuracy: 0.8214 - val_loss: 0.6243 - val_accuracy: 0.7847\n",
      "Epoch 47/50\n",
      "50000/50000 [==============================] - 173s 3ms/step - loss: 0.5023 - accuracy: 0.8227 - val_loss: 0.6228 - val_accuracy: 0.7863\n",
      "Epoch 48/50\n",
      "50000/50000 [==============================] - 185s 4ms/step - loss: 0.4994 - accuracy: 0.8225 - val_loss: 0.6250 - val_accuracy: 0.7854\n",
      "Epoch 49/50\n",
      "50000/50000 [==============================] - 185s 4ms/step - loss: 0.5033 - accuracy: 0.8240 - val_loss: 0.6222 - val_accuracy: 0.7872\n",
      "Epoch 50/50\n",
      "50000/50000 [==============================] - 176s 4ms/step - loss: 0.4987 - accuracy: 0.8250 - val_loss: 0.6223 - val_accuracy: 0.7867\n"
     ]
    }
   ],
   "source": [
    "modelradam_details = modelradam.fit(images_train, class_train,\n",
    "                    batch_size = 128, # number of samples per gradient update\n",
    "                    epochs = 50, # number of iterations\n",
    "                    validation_data= (images_test, class_test),\n",
    "                    callbacks=[checkpoint],\n",
    "                    verbose=1)"
   ]
  },
  {
   "cell_type": "code",
   "execution_count": 20,
   "metadata": {},
   "outputs": [
    {
     "name": "stdout",
     "output_type": "stream",
     "text": [
      "Model: \"sequential_2\"\n",
      "_________________________________________________________________\n",
      "Layer (type)                 Output Shape              Param #   \n",
      "=================================================================\n",
      "conv2d_5 (Conv2D)            (None, 32, 32, 32)        896       \n",
      "_________________________________________________________________\n",
      "conv2d_6 (Conv2D)            (None, 30, 30, 32)        9248      \n",
      "_________________________________________________________________\n",
      "max_pooling2d_3 (MaxPooling2 (None, 15, 15, 32)        0         \n",
      "_________________________________________________________________\n",
      "dropout_4 (Dropout)          (None, 15, 15, 32)        0         \n",
      "_________________________________________________________________\n",
      "conv2d_7 (Conv2D)            (None, 15, 15, 64)        18496     \n",
      "_________________________________________________________________\n",
      "conv2d_8 (Conv2D)            (None, 13, 13, 64)        36928     \n",
      "_________________________________________________________________\n",
      "max_pooling2d_4 (MaxPooling2 (None, 6, 6, 64)          0         \n",
      "_________________________________________________________________\n",
      "dropout_5 (Dropout)          (None, 6, 6, 64)          0         \n",
      "_________________________________________________________________\n",
      "flatten_2 (Flatten)          (None, 2304)              0         \n",
      "_________________________________________________________________\n",
      "dense_3 (Dense)              (None, 512)               1180160   \n",
      "_________________________________________________________________\n",
      "dropout_6 (Dropout)          (None, 512)               0         \n",
      "_________________________________________________________________\n",
      "dense_4 (Dense)              (None, 10)                5130      \n",
      "=================================================================\n",
      "Total params: 1,250,858\n",
      "Trainable params: 1,250,858\n",
      "Non-trainable params: 0\n",
      "_________________________________________________________________\n"
     ]
    }
   ],
   "source": [
    "modeladam = cnn_model()\n",
    "modeladam.compile(loss='categorical_crossentropy', \n",
    "              optimizer=Adam(lr=1.0e-4), # Adam optimizer with 1.0e-4 learning rate\n",
    "              metrics = ['accuracy']) "
   ]
  },
  {
   "cell_type": "code",
   "execution_count": 21,
   "metadata": {},
   "outputs": [
    {
     "name": "stdout",
     "output_type": "stream",
     "text": [
      "Train on 50000 samples, validate on 10000 samples\n",
      "Epoch 1/50\n",
      "50000/50000 [==============================] - 180s 4ms/step - loss: 1.8849 - accuracy: 0.3079 - val_loss: 1.6115 - val_accuracy: 0.4185\n",
      "Epoch 2/50\n",
      "50000/50000 [==============================] - 186s 4ms/step - loss: 1.5912 - accuracy: 0.4206 - val_loss: 1.4882 - val_accuracy: 0.4635\n",
      "Epoch 3/50\n",
      "50000/50000 [==============================] - 172s 3ms/step - loss: 1.4693 - accuracy: 0.4651 - val_loss: 1.3651 - val_accuracy: 0.5042\n",
      "Epoch 4/50\n",
      "50000/50000 [==============================] - 172s 3ms/step - loss: 1.3849 - accuracy: 0.5020 - val_loss: 1.2808 - val_accuracy: 0.5427\n",
      "Epoch 5/50\n",
      "50000/50000 [==============================] - 170s 3ms/step - loss: 1.3236 - accuracy: 0.5244 - val_loss: 1.2679 - val_accuracy: 0.5478\n",
      "Epoch 6/50\n",
      "50000/50000 [==============================] - 171s 3ms/step - loss: 1.2747 - accuracy: 0.5455 - val_loss: 1.1848 - val_accuracy: 0.5821\n",
      "Epoch 7/50\n",
      "50000/50000 [==============================] - 170s 3ms/step - loss: 1.2244 - accuracy: 0.5652 - val_loss: 1.1509 - val_accuracy: 0.5945\n",
      "Epoch 8/50\n",
      "50000/50000 [==============================] - 170s 3ms/step - loss: 1.1864 - accuracy: 0.5815 - val_loss: 1.0952 - val_accuracy: 0.6140\n",
      "Epoch 9/50\n",
      "50000/50000 [==============================] - 169s 3ms/step - loss: 1.1463 - accuracy: 0.5939 - val_loss: 1.0661 - val_accuracy: 0.6239\n",
      "Epoch 10/50\n",
      "50000/50000 [==============================] - 169s 3ms/step - loss: 1.1084 - accuracy: 0.6120 - val_loss: 1.0224 - val_accuracy: 0.6445\n",
      "Epoch 11/50\n",
      "50000/50000 [==============================] - 169s 3ms/step - loss: 1.0762 - accuracy: 0.6230 - val_loss: 0.9984 - val_accuracy: 0.6524\n",
      "Epoch 12/50\n",
      "50000/50000 [==============================] - 169s 3ms/step - loss: 1.0494 - accuracy: 0.6305 - val_loss: 0.9971 - val_accuracy: 0.6504\n",
      "Epoch 13/50\n",
      "50000/50000 [==============================] - 170s 3ms/step - loss: 1.0192 - accuracy: 0.6446 - val_loss: 0.9404 - val_accuracy: 0.6757\n",
      "Epoch 14/50\n",
      "50000/50000 [==============================] - 169s 3ms/step - loss: 0.9901 - accuracy: 0.6537 - val_loss: 0.9562 - val_accuracy: 0.6709\n",
      "Epoch 15/50\n",
      "50000/50000 [==============================] - 170s 3ms/step - loss: 0.9686 - accuracy: 0.6614 - val_loss: 0.9017 - val_accuracy: 0.6903\n",
      "Epoch 16/50\n",
      "50000/50000 [==============================] - 169s 3ms/step - loss: 0.9473 - accuracy: 0.6676 - val_loss: 0.8940 - val_accuracy: 0.6892\n",
      "Epoch 17/50\n",
      "50000/50000 [==============================] - 170s 3ms/step - loss: 0.9252 - accuracy: 0.6779 - val_loss: 0.8741 - val_accuracy: 0.6972\n",
      "Epoch 18/50\n",
      "50000/50000 [==============================] - 170s 3ms/step - loss: 0.9013 - accuracy: 0.6834 - val_loss: 0.8474 - val_accuracy: 0.7041\n",
      "Epoch 19/50\n",
      "50000/50000 [==============================] - 169s 3ms/step - loss: 0.8850 - accuracy: 0.6924 - val_loss: 0.8404 - val_accuracy: 0.7087\n",
      "Epoch 20/50\n",
      "50000/50000 [==============================] - 170s 3ms/step - loss: 0.8647 - accuracy: 0.6978 - val_loss: 0.8315 - val_accuracy: 0.7108\n",
      "Epoch 21/50\n",
      "50000/50000 [==============================] - 169s 3ms/step - loss: 0.8454 - accuracy: 0.7046 - val_loss: 0.8188 - val_accuracy: 0.7201\n",
      "Epoch 22/50\n",
      "50000/50000 [==============================] - 170s 3ms/step - loss: 0.8332 - accuracy: 0.7108 - val_loss: 0.7883 - val_accuracy: 0.7290\n",
      "Epoch 23/50\n",
      "50000/50000 [==============================] - 170s 3ms/step - loss: 0.8154 - accuracy: 0.7157 - val_loss: 0.7922 - val_accuracy: 0.7274\n",
      "Epoch 24/50\n",
      "50000/50000 [==============================] - 172s 3ms/step - loss: 0.7968 - accuracy: 0.7244 - val_loss: 0.7697 - val_accuracy: 0.7362\n",
      "Epoch 25/50\n",
      "50000/50000 [==============================] - 170s 3ms/step - loss: 0.7866 - accuracy: 0.7231 - val_loss: 0.7689 - val_accuracy: 0.7351\n",
      "Epoch 26/50\n",
      "50000/50000 [==============================] - 170s 3ms/step - loss: 0.7691 - accuracy: 0.7322 - val_loss: 0.7648 - val_accuracy: 0.7331\n",
      "Epoch 27/50\n",
      "50000/50000 [==============================] - 170s 3ms/step - loss: 0.7487 - accuracy: 0.7400 - val_loss: 0.7539 - val_accuracy: 0.7435\n",
      "Epoch 28/50\n",
      "50000/50000 [==============================] - 170s 3ms/step - loss: 0.7366 - accuracy: 0.7439 - val_loss: 0.7352 - val_accuracy: 0.7440\n",
      "Epoch 29/50\n",
      "50000/50000 [==============================] - 170s 3ms/step - loss: 0.7295 - accuracy: 0.7455 - val_loss: 0.7256 - val_accuracy: 0.7511\n",
      "Epoch 30/50\n",
      "50000/50000 [==============================] - 170s 3ms/step - loss: 0.7081 - accuracy: 0.7516 - val_loss: 0.7213 - val_accuracy: 0.7509\n",
      "Epoch 31/50\n",
      "50000/50000 [==============================] - 170s 3ms/step - loss: 0.6934 - accuracy: 0.7578 - val_loss: 0.7157 - val_accuracy: 0.7546\n",
      "Epoch 32/50\n",
      "50000/50000 [==============================] - 170s 3ms/step - loss: 0.6838 - accuracy: 0.7625 - val_loss: 0.7061 - val_accuracy: 0.7561\n",
      "Epoch 33/50\n",
      "50000/50000 [==============================] - 170s 3ms/step - loss: 0.6760 - accuracy: 0.7649 - val_loss: 0.6993 - val_accuracy: 0.7563\n",
      "Epoch 34/50\n",
      "50000/50000 [==============================] - 170s 3ms/step - loss: 0.6626 - accuracy: 0.7691 - val_loss: 0.6907 - val_accuracy: 0.7611\n",
      "Epoch 35/50\n",
      "50000/50000 [==============================] - 170s 3ms/step - loss: 0.6551 - accuracy: 0.7715 - val_loss: 0.6906 - val_accuracy: 0.7607\n",
      "Epoch 36/50\n",
      "50000/50000 [==============================] - 170s 3ms/step - loss: 0.6413 - accuracy: 0.7764 - val_loss: 0.6797 - val_accuracy: 0.7641\n",
      "Epoch 37/50\n",
      "50000/50000 [==============================] - 170s 3ms/step - loss: 0.6329 - accuracy: 0.7797 - val_loss: 0.6757 - val_accuracy: 0.7627\n",
      "Epoch 38/50\n",
      "50000/50000 [==============================] - 170s 3ms/step - loss: 0.6197 - accuracy: 0.7831 - val_loss: 0.6665 - val_accuracy: 0.7702\n",
      "Epoch 39/50\n",
      "50000/50000 [==============================] - 170s 3ms/step - loss: 0.6059 - accuracy: 0.7890 - val_loss: 0.6739 - val_accuracy: 0.7644\n",
      "Epoch 40/50\n",
      "50000/50000 [==============================] - 170s 3ms/step - loss: 0.6006 - accuracy: 0.7895 - val_loss: 0.6609 - val_accuracy: 0.7729\n",
      "Epoch 41/50\n",
      "50000/50000 [==============================] - 170s 3ms/step - loss: 0.5920 - accuracy: 0.7915 - val_loss: 0.6529 - val_accuracy: 0.7749\n",
      "Epoch 42/50\n",
      "50000/50000 [==============================] - 170s 3ms/step - loss: 0.5823 - accuracy: 0.7956 - val_loss: 0.6553 - val_accuracy: 0.7750\n",
      "Epoch 43/50\n",
      "50000/50000 [==============================] - 170s 3ms/step - loss: 0.5740 - accuracy: 0.7996 - val_loss: 0.6593 - val_accuracy: 0.7752\n",
      "Epoch 44/50\n",
      "50000/50000 [==============================] - 170s 3ms/step - loss: 0.5658 - accuracy: 0.7994 - val_loss: 0.6573 - val_accuracy: 0.7742\n",
      "Epoch 45/50\n",
      "50000/50000 [==============================] - 170s 3ms/step - loss: 0.5546 - accuracy: 0.8047 - val_loss: 0.6504 - val_accuracy: 0.7750\n",
      "Epoch 46/50\n",
      "50000/50000 [==============================] - 170s 3ms/step - loss: 0.5488 - accuracy: 0.8081 - val_loss: 0.6519 - val_accuracy: 0.7758\n",
      "Epoch 47/50\n",
      "50000/50000 [==============================] - 170s 3ms/step - loss: 0.5345 - accuracy: 0.8108 - val_loss: 0.6439 - val_accuracy: 0.7782\n",
      "Epoch 48/50\n",
      "50000/50000 [==============================] - 170s 3ms/step - loss: 0.5253 - accuracy: 0.8148 - val_loss: 0.6379 - val_accuracy: 0.7791\n",
      "Epoch 49/50\n",
      "50000/50000 [==============================] - 170s 3ms/step - loss: 0.5190 - accuracy: 0.8183 - val_loss: 0.6548 - val_accuracy: 0.7763\n",
      "Epoch 50/50\n",
      "50000/50000 [==============================] - 170s 3ms/step - loss: 0.5092 - accuracy: 0.8199 - val_loss: 0.6498 - val_accuracy: 0.7771\n"
     ]
    }
   ],
   "source": [
    "modeladam_details = modeladam.fit(images_train, class_train,\n",
    "                    batch_size = 128, # number of samples per gradient update\n",
    "                    epochs = 50, # number of iterations\n",
    "                    validation_data= (images_test, class_test),\n",
    "                    callbacks=[checkpoint],\n",
    "                    verbose=1)"
   ]
  },
  {
   "cell_type": "code",
   "execution_count": 23,
   "metadata": {},
   "outputs": [
    {
     "data": {
      "text/plain": [
       "Text(0.5, 1.0, 'training Loss curves')"
      ]
     },
     "execution_count": 23,
     "metadata": {},
     "output_type": "execute_result"
    },
    {
     "data": {
      "image/png": "[encoded data removed]",
      "text/plain": [
       "<Figure size 1152x864 with 1 Axes>"
      ]
     },
     "metadata": {},
     "output_type": "display_data"
    }
   ],
   "source": [
    "plt.figure(figsize= [16,12])\n",
    "plt.plot(modelradam_details.history['loss'],'red',linewidth=3.0)\n",
    "plt.plot(modeladam_details.history['loss'],'blue',linewidth=3.0)\n",
    "plt.legend(('RAdam', 'Adam'), fontsize=14, shadow=True)\n",
    "plt.xlabel('Epochs',fontsize=16)\n",
    "plt.ylabel('loss',fontsize=16)\n",
    "plt.title('training Loss curves', fontsize=16)"
   ]
  },
  {
   "cell_type": "code",
   "execution_count": 24,
   "metadata": {},
   "outputs": [
    {
     "data": {
      "text/plain": [
       "Text(0.5, 1.0, 'validation Loss curves')"
      ]
     },
     "execution_count": 24,
     "metadata": {},
     "output_type": "execute_result"
    },
    {
     "data": {
      "image/png": "[encoded data removed]",
      "text/plain": [
       "<Figure size 1152x864 with 1 Axes>"
      ]
     },
     "metadata": {},
     "output_type": "display_data"
    }
   ],
   "source": [
    "plt.figure(figsize= [16,12])\n",
    "plt.plot(modelradam_details.history['val_loss'],'red',linewidth=3.0)\n",
    "plt.plot(modeladam_details.history['val_loss'],'blue',linewidth=3.0)\n",
    "plt.legend(('RAdam', 'Adam'), fontsize=14, shadow=True)\n",
    "plt.xlabel('Epochs',fontsize=16)\n",
    "plt.ylabel('loss',fontsize=16)\n",
    "plt.title('validation Loss curves', fontsize=16)"
   ]
  },
  {
   "cell_type": "code",
   "execution_count": null,
   "metadata": {},
   "outputs": [],
   "source": []
  }
 ],
 "metadata": {
  "kernelspec": {
   "display_name": "Python 3",
   "language": "python",
   "name": "python3"
  },
  "language_info": {
   "codemirror_mode": {
    "name": "ipython",
    "version": 3
   },
   "file_extension": ".py",
   "mimetype": "text/x-python",
   "name": "python",
   "nbconvert_exporter": "python",
   "pygments_lexer": "ipython3",
   "version": "3.7.3"
  }
 },
 "nbformat": 4,
 "nbformat_minor": 2
}
